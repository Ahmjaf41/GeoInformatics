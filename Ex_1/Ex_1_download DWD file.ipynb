{
 "cells": [
  {
   "cell_type": "markdown",
   "source": [
    "# Exercise 1: Generate a Map"
   ],
   "metadata": {}
  },
  {
   "cell_type": "code",
   "execution_count": 3,
   "source": [
    "server = \"opendata.dwd.de\"\r\n",
    "user   = \"anonymous\"\r\n",
    "passwd = \"\""
   ],
   "outputs": [],
   "metadata": {}
  },
  {
   "cell_type": "markdown",
   "source": [
    "### FTP Directory Definition and Station Description Filename Pattern"
   ],
   "metadata": {}
  },
  {
   "cell_type": "code",
   "execution_count": 16,
   "source": [
    "# path for historical hourly precipitation data. \r\n",
    "topic_dir = \"/hourly/precipitation/historical/\"\r\n",
    " \r\n",
    "# Common pattern of all the Station info files\r\n",
    "station_desc_file_pattern = \"_Beschreibung_Stationen.txt\"\r\n",
    "\r\n",
    "# Main path for climate data on the website\r\n",
    "climate_data_dir_website = \"/climate_environment/CDC/observations_germany/climate/\"\r\n",
    "\r\n",
    "#Forming the entire path as on the website\r\n",
    "website_path =  climate_data_dir_website + topic_dir"
   ],
   "outputs": [],
   "metadata": {}
  },
  {
   "cell_type": "markdown",
   "source": [
    "### Local Directories"
   ],
   "metadata": {}
  },
  {
   "cell_type": "code",
   "execution_count": 17,
   "source": [
    "# Replicating the subdirectory path as on the website\r\n",
    "local_ts_dir = \"../data/original/DWD/\" + topic_dir  \r\n",
    "local_station_file_path = local_ts_dir # station info directory."
   ],
   "outputs": [],
   "metadata": {}
  },
  {
   "cell_type": "code",
   "execution_count": 18,
   "source": [
    "print(local_station_file_path)"
   ],
   "outputs": [
    {
     "output_type": "stream",
     "name": "stdout",
     "text": [
      "../data/original/DWD//hourly/precipitation/historical/\n"
     ]
    }
   ],
   "metadata": {}
  },
  {
   "cell_type": "code",
   "execution_count": 19,
   "source": [
    "# Directory trees are created. Ignore errors if they already exist.\r\n",
    "import os\r\n",
    "os.makedirs(local_station_file_path,exist_ok = True) # it does not complain if the dir already exists.\r\n",
    "os.makedirs(local_ts_dir,exist_ok = True) # it does not complain if the dir already exists."
   ],
   "outputs": [],
   "metadata": {}
  },
  {
   "cell_type": "markdown",
   "source": [
    "### FTP Connect"
   ],
   "metadata": {}
  },
  {
   "cell_type": "code",
   "execution_count": 20,
   "source": [
    "# Opening the FTP session. Loging in.\r\n",
    "import ftplib\r\n",
    "ftp = ftplib.FTP(server)\r\n",
    "result = ftp.login(user=user, passwd = passwd)\r\n",
    "print(result)"
   ],
   "outputs": [
    {
     "output_type": "stream",
     "name": "stdout",
     "text": [
      "230 Login successful.\n"
     ]
    }
   ],
   "metadata": {}
  },
  {
   "cell_type": "code",
   "execution_count": 21,
   "source": [
    "# Checking whether the connection is still open (not having reached a timeout yet)\r\n",
    "ret = ftp.cwd(\".\")"
   ],
   "outputs": [],
   "metadata": {}
  },
  {
   "cell_type": "markdown",
   "source": [
    "### FTP Grab File Function"
   ],
   "metadata": {}
  },
  {
   "cell_type": "code",
   "execution_count": 22,
   "source": [
    "def grabFile(ftpfilename,localfilename):\r\n",
    "    try:\r\n",
    "        ret = ftp.cwd(\".\") # A dummy action to check the connection and to provoke an exception if necessary.\r\n",
    "        localfile = open(localfilename, 'wb')\r\n",
    "        ftp.retrbinary('RETR ' + ftpfilename, localfile.write, 1024)\r\n",
    "        localfile.close()\r\n",
    "    \r\n",
    "    except ftplib.error_perm:\r\n",
    "        print(\"FTP ERROR. Operation not permitted. File not found!\")\r\n",
    "\r\n",
    "    except ftplib.error_temp:\r\n",
    "        print(\"FTP ERROR. Timeout. Try Again\")\r\n",
    "\r\n",
    "    except ConnectionAbortedError:\r\n",
    "        print(\"FTP ERROR. Connection aborted.\")\r\n",
    "\r\n"
   ],
   "outputs": [],
   "metadata": {}
  },
  {
   "cell_type": "markdown",
   "source": [
    "### Generate Pandas Dataframe from FTP Directory Listing"
   ],
   "metadata": {}
  },
  {
   "cell_type": "code",
   "execution_count": 23,
   "source": [
    "import pandas as pd\r\n",
    "import os\r\n",
    "\r\n",
    "# generate a pandas dataframe from a FTP directory listing. \r\n",
    "def gen_df_from_ftp_dir_listing(ftp, ftpdir):\r\n",
    "    lines = []\r\n",
    "    flist = []\r\n",
    "    try:\r\n",
    "        # issue the command LIST in the FTP connection \r\n",
    "        res = ftp.retrlines(\"LIST \"+ftpdir, lines.append)\r\n",
    "    except:\r\n",
    "        print(\"Error: ftp.retrlines() failed. ftp timeout? Reconnect!\")\r\n",
    "        return\r\n",
    "        \r\n",
    "    if len(lines) == 0:\r\n",
    "        print(\"Error: ftp dir is empty\")\r\n",
    "        return\r\n",
    "    \r\n",
    "    for line in lines:\r\n",
    "#        print(line)\r\n",
    "        [ftype, fsize, fname] = [line[0:1], int(line[31:42]), line[56:]]\r\n",
    "        \r\n",
    "        fext = os.path.splitext(fname)[-1]\r\n",
    "        \r\n",
    "        if fext == \".zip\":\r\n",
    "            station_id = int(fname.split(\"_\")[2])\r\n",
    "        else:\r\n",
    "            station_id = -1 \r\n",
    "        \r\n",
    "        flist.append([station_id, fname, fext, fsize, ftype])\r\n",
    "        \r\n",
    "        \r\n",
    "\r\n",
    "    df_ftp_dir = pd.DataFrame(flist,columns=[\"station_id\", \"name\", \"ext\", \"size\", \"type\"])\r\n",
    "    return(df_ftp_dir)"
   ],
   "outputs": [],
   "metadata": {}
  },
  {
   "cell_type": "code",
   "execution_count": 25,
   "source": [
    "# Generate a pandas dataframe from the FTP directory listing \n",
    "df_ftp_dir = gen_df_from_ftp_dir_listing(ftp, website_path)"
   ],
   "outputs": [],
   "metadata": {}
  },
  {
   "cell_type": "code",
   "execution_count": 26,
   "source": [
    "df_ftp_dir.head(10)"
   ],
   "outputs": [
    {
     "output_type": "execute_result",
     "data": {
      "text/html": [
       "<div>\n",
       "<style scoped>\n",
       "    .dataframe tbody tr th:only-of-type {\n",
       "        vertical-align: middle;\n",
       "    }\n",
       "\n",
       "    .dataframe tbody tr th {\n",
       "        vertical-align: top;\n",
       "    }\n",
       "\n",
       "    .dataframe thead th {\n",
       "        text-align: right;\n",
       "    }\n",
       "</style>\n",
       "<table border=\"1\" class=\"dataframe\">\n",
       "  <thead>\n",
       "    <tr style=\"text-align: right;\">\n",
       "      <th></th>\n",
       "      <th>station_id</th>\n",
       "      <th>name</th>\n",
       "      <th>ext</th>\n",
       "      <th>size</th>\n",
       "      <th>type</th>\n",
       "    </tr>\n",
       "  </thead>\n",
       "  <tbody>\n",
       "    <tr>\n",
       "      <th>0</th>\n",
       "      <td>-1</td>\n",
       "      <td>BESCHREIBUNG_obsgermany_climate_hourly_precipi...</td>\n",
       "      <td>.pdf</td>\n",
       "      <td>71445</td>\n",
       "      <td>-</td>\n",
       "    </tr>\n",
       "    <tr>\n",
       "      <th>1</th>\n",
       "      <td>-1</td>\n",
       "      <td>DESCRIPTION_obsgermany_climate_hourly_precipit...</td>\n",
       "      <td>.pdf</td>\n",
       "      <td>69716</td>\n",
       "      <td>-</td>\n",
       "    </tr>\n",
       "    <tr>\n",
       "      <th>2</th>\n",
       "      <td>-1</td>\n",
       "      <td>RR_Stundenwerte_Beschreibung_Stationen.txt</td>\n",
       "      <td>.txt</td>\n",
       "      <td>209079</td>\n",
       "      <td>-</td>\n",
       "    </tr>\n",
       "    <tr>\n",
       "      <th>3</th>\n",
       "      <td>3</td>\n",
       "      <td>stundenwerte_RR_00003_19950901_20110401_hist.zip</td>\n",
       "      <td>.zip</td>\n",
       "      <td>419265</td>\n",
       "      <td>-</td>\n",
       "    </tr>\n",
       "    <tr>\n",
       "      <th>4</th>\n",
       "      <td>20</td>\n",
       "      <td>stundenwerte_RR_00020_20040814_20191231_hist.zip</td>\n",
       "      <td>.zip</td>\n",
       "      <td>407378</td>\n",
       "      <td>-</td>\n",
       "    </tr>\n",
       "    <tr>\n",
       "      <th>5</th>\n",
       "      <td>44</td>\n",
       "      <td>stundenwerte_RR_00044_20070401_20191231_hist.zip</td>\n",
       "      <td>.zip</td>\n",
       "      <td>320516</td>\n",
       "      <td>-</td>\n",
       "    </tr>\n",
       "    <tr>\n",
       "      <th>6</th>\n",
       "      <td>53</td>\n",
       "      <td>stundenwerte_RR_00053_20051001_20191231_hist.zip</td>\n",
       "      <td>.zip</td>\n",
       "      <td>361931</td>\n",
       "      <td>-</td>\n",
       "    </tr>\n",
       "    <tr>\n",
       "      <th>7</th>\n",
       "      <td>71</td>\n",
       "      <td>stundenwerte_RR_00071_20041022_20191231_hist.zip</td>\n",
       "      <td>.zip</td>\n",
       "      <td>402880</td>\n",
       "      <td>-</td>\n",
       "    </tr>\n",
       "    <tr>\n",
       "      <th>8</th>\n",
       "      <td>73</td>\n",
       "      <td>stundenwerte_RR_00073_20070401_20191231_hist.zip</td>\n",
       "      <td>.zip</td>\n",
       "      <td>333070</td>\n",
       "      <td>-</td>\n",
       "    </tr>\n",
       "    <tr>\n",
       "      <th>9</th>\n",
       "      <td>78</td>\n",
       "      <td>stundenwerte_RR_00078_20041101_20191231_hist.zip</td>\n",
       "      <td>.zip</td>\n",
       "      <td>384729</td>\n",
       "      <td>-</td>\n",
       "    </tr>\n",
       "  </tbody>\n",
       "</table>\n",
       "</div>"
      ],
      "text/plain": [
       "   station_id                                               name   ext  \\\n",
       "0          -1  BESCHREIBUNG_obsgermany_climate_hourly_precipi...  .pdf   \n",
       "1          -1  DESCRIPTION_obsgermany_climate_hourly_precipit...  .pdf   \n",
       "2          -1         RR_Stundenwerte_Beschreibung_Stationen.txt  .txt   \n",
       "3           3   stundenwerte_RR_00003_19950901_20110401_hist.zip  .zip   \n",
       "4          20   stundenwerte_RR_00020_20040814_20191231_hist.zip  .zip   \n",
       "5          44   stundenwerte_RR_00044_20070401_20191231_hist.zip  .zip   \n",
       "6          53   stundenwerte_RR_00053_20051001_20191231_hist.zip  .zip   \n",
       "7          71   stundenwerte_RR_00071_20041022_20191231_hist.zip  .zip   \n",
       "8          73   stundenwerte_RR_00073_20070401_20191231_hist.zip  .zip   \n",
       "9          78   stundenwerte_RR_00078_20041101_20191231_hist.zip  .zip   \n",
       "\n",
       "     size type  \n",
       "0   71445    -  \n",
       "1   69716    -  \n",
       "2  209079    -  \n",
       "3  419265    -  \n",
       "4  407378    -  \n",
       "5  320516    -  \n",
       "6  361931    -  \n",
       "7  402880    -  \n",
       "8  333070    -  \n",
       "9  384729    -  "
      ]
     },
     "metadata": {},
     "execution_count": 26
    }
   ],
   "metadata": {}
  },
  {
   "cell_type": "markdown",
   "source": [
    "### Download the Station Description File"
   ],
   "metadata": {}
  },
  {
   "cell_type": "code",
   "execution_count": 27,
   "source": [
    "station_fname = df_ftp_dir[df_ftp_dir['name'].str.contains(station_desc_file_pattern)][\"name\"].values[0]\n",
    "print(station_fname)"
   ],
   "outputs": [
    {
     "output_type": "stream",
     "name": "stdout",
     "text": [
      "RR_Stundenwerte_Beschreibung_Stationen.txt\n"
     ]
    }
   ],
   "metadata": {}
  },
  {
   "cell_type": "code",
   "execution_count": 28,
   "source": [
    "print(\"grab file: \" + station_fname + \"\\nfrom ftp dir: \" + website_path)\n",
    "grabFile(website_path + station_fname, local_station_file_path + station_fname)"
   ],
   "outputs": [
    {
     "output_type": "stream",
     "name": "stdout",
     "text": [
      "grab file: RR_Stundenwerte_Beschreibung_Stationen.txt\n",
      "from ftp dir: /climate_environment/CDC/observations_germany/climate//hourly/precipitation/historical/\n"
     ]
    }
   ],
   "metadata": {}
  },
  {
   "cell_type": "code",
   "execution_count": 29,
   "source": [
    "# extracting column names since they are in German, to convert to English names.\n",
    "# We have to use codecs because of difficulties with character encoding (German Umlaute)\n",
    "import codecs\n",
    "\n",
    "def station_desc_txt_to_csv(txtfile, csvfile):\n",
    "    file = codecs.open(txtfile,\"r\",\"utf-8\")\n",
    "    r = file.readline()\n",
    "    file.close()\n",
    "    colnames_de = r.split()\n",
    "    colnames_de\n",
    "    \n",
    "    # German-English dictionary\n",
    "    translate = \\\n",
    "    {'Stations_id':'station_id',\n",
    "     'von_datum':'date_from',\n",
    "     'bis_datum':'date_to',\n",
    "     'Stationshoehe':'altitude',\n",
    "     'geoBreite': 'latitude',\n",
    "     'geoLaenge': 'longitude',\n",
    "     'Stationsname':'name',\n",
    "     'Bundesland':'state'}\n",
    "    \n",
    "    colnames_en = [translate[h] for h in colnames_de]\n",
    "    \n",
    "    # Skip the first two rows and set the column names.\n",
    "    df_temp = pd.read_fwf(txtfile,skiprows=2,names=colnames_en, parse_dates=[\"date_from\",\"date_to\"],index_col = 0)\n",
    "    \n",
    "    # write CSV file with field separator semicolon\n",
    "    df_temp.to_csv(csvfile, sep = \";\")\n",
    "    return(df_temp)"
   ],
   "outputs": [],
   "metadata": {}
  },
  {
   "cell_type": "code",
   "execution_count": 30,
   "source": [
    "# Extracting name of the file\n",
    "basename = os.path.splitext(station_fname)[0]\n",
    "basename"
   ],
   "outputs": [
    {
     "output_type": "execute_result",
     "data": {
      "text/plain": [
       "'RR_Stundenwerte_Beschreibung_Stationen'"
      ]
     },
     "metadata": {},
     "execution_count": 30
    }
   ],
   "metadata": {}
  },
  {
   "cell_type": "code",
   "execution_count": 31,
   "source": [
    "# converting text file to CSV for further use\n",
    "df_stations = station_desc_txt_to_csv(local_station_file_path + station_fname, local_station_file_path + basename + \".csv\")\n",
    "\n",
    "# Final Formatted station description file\n",
    "df_stations"
   ],
   "outputs": [
    {
     "output_type": "execute_result",
     "data": {
      "text/html": [
       "<div>\n",
       "<style scoped>\n",
       "    .dataframe tbody tr th:only-of-type {\n",
       "        vertical-align: middle;\n",
       "    }\n",
       "\n",
       "    .dataframe tbody tr th {\n",
       "        vertical-align: top;\n",
       "    }\n",
       "\n",
       "    .dataframe thead th {\n",
       "        text-align: right;\n",
       "    }\n",
       "</style>\n",
       "<table border=\"1\" class=\"dataframe\">\n",
       "  <thead>\n",
       "    <tr style=\"text-align: right;\">\n",
       "      <th></th>\n",
       "      <th>date_from</th>\n",
       "      <th>date_to</th>\n",
       "      <th>altitude</th>\n",
       "      <th>latitude</th>\n",
       "      <th>longitude</th>\n",
       "      <th>name</th>\n",
       "      <th>state</th>\n",
       "    </tr>\n",
       "    <tr>\n",
       "      <th>station_id</th>\n",
       "      <th></th>\n",
       "      <th></th>\n",
       "      <th></th>\n",
       "      <th></th>\n",
       "      <th></th>\n",
       "      <th></th>\n",
       "      <th></th>\n",
       "    </tr>\n",
       "  </thead>\n",
       "  <tbody>\n",
       "    <tr>\n",
       "      <th>3</th>\n",
       "      <td>1995-09-01</td>\n",
       "      <td>2011-04-01</td>\n",
       "      <td>202</td>\n",
       "      <td>50.7827</td>\n",
       "      <td>6.0941</td>\n",
       "      <td>Aachen</td>\n",
       "      <td>Nordrhein-Westfalen</td>\n",
       "    </tr>\n",
       "    <tr>\n",
       "      <th>20</th>\n",
       "      <td>2004-08-14</td>\n",
       "      <td>2021-03-28</td>\n",
       "      <td>432</td>\n",
       "      <td>48.9220</td>\n",
       "      <td>9.9129</td>\n",
       "      <td>Abtsgmünd-Untergröningen</td>\n",
       "      <td>Baden-Württemberg</td>\n",
       "    </tr>\n",
       "    <tr>\n",
       "      <th>44</th>\n",
       "      <td>2007-04-01</td>\n",
       "      <td>2021-03-28</td>\n",
       "      <td>44</td>\n",
       "      <td>52.9336</td>\n",
       "      <td>8.2370</td>\n",
       "      <td>Großenkneten</td>\n",
       "      <td>Niedersachsen</td>\n",
       "    </tr>\n",
       "    <tr>\n",
       "      <th>53</th>\n",
       "      <td>2005-10-01</td>\n",
       "      <td>2021-03-28</td>\n",
       "      <td>60</td>\n",
       "      <td>52.5850</td>\n",
       "      <td>13.5634</td>\n",
       "      <td>Ahrensfelde</td>\n",
       "      <td>Brandenburg</td>\n",
       "    </tr>\n",
       "    <tr>\n",
       "      <th>71</th>\n",
       "      <td>2004-10-22</td>\n",
       "      <td>2020-01-01</td>\n",
       "      <td>759</td>\n",
       "      <td>48.2156</td>\n",
       "      <td>8.9784</td>\n",
       "      <td>Albstadt-Badkap</td>\n",
       "      <td>Baden-Württemberg</td>\n",
       "    </tr>\n",
       "    <tr>\n",
       "      <th>...</th>\n",
       "      <td>...</td>\n",
       "      <td>...</td>\n",
       "      <td>...</td>\n",
       "      <td>...</td>\n",
       "      <td>...</td>\n",
       "      <td>...</td>\n",
       "      <td>...</td>\n",
       "    </tr>\n",
       "    <tr>\n",
       "      <th>15478</th>\n",
       "      <td>2015-02-01</td>\n",
       "      <td>2021-03-28</td>\n",
       "      <td>515</td>\n",
       "      <td>48.2095</td>\n",
       "      <td>10.0654</td>\n",
       "      <td>Dietenheim</td>\n",
       "      <td>Baden-Württemberg</td>\n",
       "    </tr>\n",
       "    <tr>\n",
       "      <th>15490</th>\n",
       "      <td>2016-12-01</td>\n",
       "      <td>2021-03-28</td>\n",
       "      <td>298</td>\n",
       "      <td>50.8053</td>\n",
       "      <td>8.3382</td>\n",
       "      <td>Eschenburg-Eibelshausen</td>\n",
       "      <td>Hessen</td>\n",
       "    </tr>\n",
       "    <tr>\n",
       "      <th>15512</th>\n",
       "      <td>2016-09-01</td>\n",
       "      <td>2021-03-28</td>\n",
       "      <td>66</td>\n",
       "      <td>53.0859</td>\n",
       "      <td>10.1611</td>\n",
       "      <td>Rehlingen-Ehlbeck</td>\n",
       "      <td>Niedersachsen</td>\n",
       "    </tr>\n",
       "    <tr>\n",
       "      <th>15514</th>\n",
       "      <td>2017-11-01</td>\n",
       "      <td>2021-03-28</td>\n",
       "      <td>104</td>\n",
       "      <td>49.3766</td>\n",
       "      <td>8.6177</td>\n",
       "      <td>Heidelberg-Kurpfalzhof</td>\n",
       "      <td>Baden-Württemberg</td>\n",
       "    </tr>\n",
       "    <tr>\n",
       "      <th>15555</th>\n",
       "      <td>2016-05-01</td>\n",
       "      <td>2021-03-28</td>\n",
       "      <td>815</td>\n",
       "      <td>47.8761</td>\n",
       "      <td>10.5849</td>\n",
       "      <td>Kaufbeuren-Oberbeuren</td>\n",
       "      <td>Bayern</td>\n",
       "    </tr>\n",
       "  </tbody>\n",
       "</table>\n",
       "<p>1034 rows × 7 columns</p>\n",
       "</div>"
      ],
      "text/plain": [
       "            date_from    date_to  altitude  latitude  longitude  \\\n",
       "station_id                                                        \n",
       "3          1995-09-01 2011-04-01       202   50.7827     6.0941   \n",
       "20         2004-08-14 2021-03-28       432   48.9220     9.9129   \n",
       "44         2007-04-01 2021-03-28        44   52.9336     8.2370   \n",
       "53         2005-10-01 2021-03-28        60   52.5850    13.5634   \n",
       "71         2004-10-22 2020-01-01       759   48.2156     8.9784   \n",
       "...               ...        ...       ...       ...        ...   \n",
       "15478      2015-02-01 2021-03-28       515   48.2095    10.0654   \n",
       "15490      2016-12-01 2021-03-28       298   50.8053     8.3382   \n",
       "15512      2016-09-01 2021-03-28        66   53.0859    10.1611   \n",
       "15514      2017-11-01 2021-03-28       104   49.3766     8.6177   \n",
       "15555      2016-05-01 2021-03-28       815   47.8761    10.5849   \n",
       "\n",
       "                                name                state  \n",
       "station_id                                                 \n",
       "3                             Aachen  Nordrhein-Westfalen  \n",
       "20          Abtsgmünd-Untergröningen    Baden-Württemberg  \n",
       "44                      Großenkneten        Niedersachsen  \n",
       "53                       Ahrensfelde          Brandenburg  \n",
       "71                   Albstadt-Badkap    Baden-Württemberg  \n",
       "...                              ...                  ...  \n",
       "15478                     Dietenheim    Baden-Württemberg  \n",
       "15490        Eschenburg-Eibelshausen               Hessen  \n",
       "15512              Rehlingen-Ehlbeck        Niedersachsen  \n",
       "15514         Heidelberg-Kurpfalzhof    Baden-Württemberg  \n",
       "15555          Kaufbeuren-Oberbeuren               Bayern  \n",
       "\n",
       "[1034 rows x 7 columns]"
      ]
     },
     "metadata": {},
     "execution_count": 31
    }
   ],
   "metadata": {}
  }
 ],
 "metadata": {
  "kernelspec": {
   "display_name": "Python 3",
   "language": "python",
   "name": "python3"
  },
  "language_info": {
   "codemirror_mode": {
    "name": "ipython",
    "version": 3
   },
   "file_extension": ".py",
   "mimetype": "text/x-python",
   "name": "python",
   "nbconvert_exporter": "python",
   "pygments_lexer": "ipython3",
   "version": "3.8.3"
  }
 },
 "nbformat": 4,
 "nbformat_minor": 4
}